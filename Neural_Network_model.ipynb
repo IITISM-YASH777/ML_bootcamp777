{
 "cells": [
  {
   "cell_type": "code",
   "execution_count": 3,
   "metadata": {},
   "outputs": [],
   "source": [
    "import pandas as pd\n",
    "import matplotlib.pyplot as plt\n",
    "import numpy as np"
   ]
  },
  {
   "cell_type": "code",
   "execution_count": null,
   "metadata": {},
   "outputs": [],
   "source": [
    "data=pd.read_csv(r\"C:\\Users\\yash-\\Downloads\\nn_train.csv\")\n",
    "print(data)"
   ]
  },
  {
   "cell_type": "code",
   "execution_count": 5,
   "metadata": {},
   "outputs": [
    {
     "data": {
      "text/plain": [
       "(80000, 1027)"
      ]
     },
     "execution_count": 5,
     "metadata": {},
     "output_type": "execute_result"
    }
   ],
   "source": [
    "d_np=data.to_numpy()\n",
    "d_np.shape"
   ]
  },
  {
   "cell_type": "code",
   "execution_count": 6,
   "metadata": {},
   "outputs": [],
   "source": [
    "X=d_np[:,1:1026]\n",
    "yb=d_np[:,1025]\n",
    "ym=d_np[:,1026]"
   ]
  },
  {
   "cell_type": "code",
   "execution_count": 34,
   "metadata": {},
   "outputs": [],
   "source": [
    "\n",
    "def relu(X):\n",
    "    return np.maximum(0,X)\n",
    "def softmax(X):\n",
    "   x_max=np.max(X,axis=-1,keepdims=True)\n",
    "   return np.exp(X-x_max)/np.sum(np.exp(X-x_max),axis=-1,keepdims=True)\n",
    "def tanh(X):\n",
    "    return np.tanh(X)\n",
    "def sigmoid(X):\n",
    "  return 1/(1+np.exp(-X))\n",
    "def der_relu(X):\n",
    "    return X>0\n",
    "def der_sigmoid(X):\n",
    "    return 1/(1+np.exp(-X))**2\n",
    "def der_tanh(X_):\n",
    "    X=tanh(X_)\n",
    "    return(1-np.power(X,2))"
   ]
  },
  {
   "cell_type": "code",
   "execution_count": 8,
   "metadata": {},
   "outputs": [],
   "source": [
    "def init(layer_dims):\n",
    "    L=len(layer_dims)\n",
    "    parameters={}\n",
    "    \n",
    "    for l in range(1,L):\n",
    "        np.random.seed(1234)\n",
    "        parameters[\"W\"+str(l)]=np.random.randn(layer_dims[l],layer_dims[l-1])  \n",
    "        parameters[\"B\"+str(l)]=np.zeros((layer_dims[l],1))\n",
    "    return parameters"
   ]
  },
  {
   "cell_type": "code",
   "execution_count": 9,
   "metadata": {},
   "outputs": [],
   "source": [
    "def forward_prop(X,y,parameters):\n",
    "    L=(len(parameters)//2)\n",
    "    forward={}\n",
    "    forward[\"A0\"]=X \n",
    "    for l in range(1,L):\n",
    "        forward[\"Z\"+str(l)]=np.dot(parameters[\"W\"+str(l)],forward[\"A\"+str(l-1)])+ parameters[\"B\"+str(l)]\n",
    "        forward[\"A\"+str(l)]=tanh(forward[\"Z\"+str(l)]) \n",
    "    forward[\"Z\"+str(L)]=np.dot (parameters[\"W\"+str(L)],forward[\"A\"+str(L-1)])+ parameters[\"B\"+str(L)]\n",
    "    if(y.max()==1):\n",
    "        forward[\"A\"+str(L)]=sigmoid(forward[\"Z\"+str(L)])\n",
    "    else:\n",
    "        \n",
    "        forward[\"A\"+str(L)]=softmax(forward[\"Z\"+str(L)])\n",
    "    \n",
    "    return forward[\"A\"+str(L)],forward"
   ]
  },
  {
   "cell_type": "code",
   "execution_count": 30,
   "metadata": {},
   "outputs": [],
   "source": [
    "def cost_function(AL,y):\n",
    "    m=y.shape[0]\n",
    "    if m==1:\n",
    "        cost=-(1/m)*np.sum(y*np.log(AL) +(1-y)*np.log(1-AL))\n",
    "    else:\n",
    "     cost= (-1/m)*np.sum(y*np.log(AL))\n",
    "    return cost"
   ]
  },
  {
   "cell_type": "code",
   "execution_count": 11,
   "metadata": {},
   "outputs": [],
   "source": [
    "def backward_prop(AL,y,parameters,forwards):\n",
    "  \n",
    "    grads={}\n",
    "    L=len(parameters)//2\n",
    "    m=y.shape[0]\n",
    "    grads[\"dZ\"+str(L)]=AL-y\n",
    "    grads[\"dW\"+str(L)]=(1/m)*np.dot((grads[\"dZ\"+str(L)]),forwards[\"A\"+str(L-1)].T)\n",
    "    grads[\"dB\"+str(L)]=(1/m)*np.sum(grads[\"dZ\"+str(L)],axis=1,keepdims=True)\n",
    "    \n",
    "    for l in reversed (range(1,L)):\n",
    "        grads[\"dZ\"+str(l)]=np.dot(parameters[\"W\"+str(l+1)].T,grads[\"dZ\"+str(l+1)])*der_tanh(forwards[\"A\"+str(l)])\n",
    "        grads[\"dW\"+str(l)]=(1/m)*np.dot(grads[\"dZ\"+str(l)],forwards[\"A\"+str(l-1)].T)\n",
    "        grads[\"dB\"+str(l)]=(1/m)*np.sum(grads[\"dZ\"+str(l)],axis=1,keepdims=True)\n",
    "    \n",
    "        \n",
    "    return grads"
   ]
  },
  {
   "cell_type": "code",
   "execution_count": 12,
   "metadata": {},
   "outputs": [],
   "source": [
    "def update_parameters(y,parameters,grads,lr,lambd):\n",
    "    L=len(parameters)//2\n",
    "    m=y.shape[0]\n",
    "    for l in range(1,L+1):\n",
    "        parameters[\"W\"+str(l)]= parameters[\"W\"+str(l)]*(1-lr*lambd/m)-lr*grads[\"dW\"+str(l)]\n",
    "        parameters[\"B\"+str(l)]-= lr*grads[\"dB\"+str(l)]\n",
    "    return parameters"
   ]
  },
  {
   "cell_type": "code",
   "execution_count": 13,
   "metadata": {},
   "outputs": [],
   "source": [
    "def Accuracy(X,y,parameters):\n",
    "    preds,_=forward_prop(X,y,parameters)\n",
    "    print(\"Before argmax Predictions are :\",preds)\n",
    "    m=y.size\n",
    "    if(y.max()==1):\n",
    "     preds=np.array(preds>0.5,dtype='float')\n",
    "    else:\n",
    "        preds=np.argmax(preds,axis=0)\n",
    "    print(\"Predictions are :\",preds)\n",
    "    \n",
    "    return np.sum(y==preds)/m"
   ]
  },
  {
   "cell_type": "code",
   "execution_count": 14,
   "metadata": {},
   "outputs": [],
   "source": [
    "data_train=X[0:64000,:].T\n",
    "yb_train=yb[0:64000]\n",
    "ym_train=ym[0:64000]\n",
    "\n",
    "data_test=X[64001:,:].T\n",
    "yb_test=yb[64001:]\n",
    "ym_test=ym[64001:]"
   ]
  },
  {
   "cell_type": "code",
   "execution_count": 32,
   "metadata": {},
   "outputs": [],
   "source": [
    "def model(X,y,layer_dims,lr,iters):\n",
    "    parameters=init(layer_dims)\n",
    "    cost_list=[]\n",
    "    for i in range(iters):\n",
    "        AL,forward_p=forward_prop(X,y,parameters)\n",
    "        cost=cost_function(AL,y)\n",
    "        grads=backward_prop(AL,y,parameters,forward_p)\n",
    "        parameters=update_parameters(y,parameters,grads,lr,lambd=10000)\n",
    "        cost_list.append(cost)\n",
    "        \n",
    "    print(\"Cost is\",cost)   \n",
    "    return parameters,cost_list"
   ]
  },
  {
   "cell_type": "code",
   "execution_count": 16,
   "metadata": {},
   "outputs": [],
   "source": [
    "def calculate_precision(y_true, y_pred):\n",
    "    true_positives = np.sum((y_true == 1) & (y_pred == 1))\n",
    "    predicted_positives = np.sum(y_pred == 1)\n",
    "    if predicted_positives == 0:\n",
    "        return 0  \n",
    "    return true_positives / predicted_positives\n",
    "def calculate_recall(y_true, y_pred):\n",
    "    true_positives = np.sum((y_true == 1) & (y_pred == 1))\n",
    "    actual_positives = np.sum(y_true == 1)\n",
    "    if actual_positives == 0:\n",
    "        return 0  \n",
    "    return true_positives / actual_positives\n",
    "def Calculate_f1(y_true, y_pred):\n",
    "    precision = calculate_precision(y_true, y_pred)\n",
    "    recall = calculate_recall(y_true, y_pred)\n",
    "    if (precision + recall) == 0:\n",
    "        return 0\n",
    "    return 2 * (precision * recall) / (precision + recall)\n",
    "\n",
    "def Calculate_f1_multiclass(y_true, y_pred):\n",
    "    num_classes = len(np.unique(y_true))\n",
    "    f1_scores = []\n",
    "\n",
    "    for class_label in range(num_classes):\n",
    "        y_true_binary = (y_true == class_label).astype(int)\n",
    "        y_pred_binary = (y_pred == class_label).astype(int)\n",
    "        f1 = Calculate_f1(y_true_binary, y_pred_binary)\n",
    "        f1_scores.append(f1)\n",
    "\n",
    "        true_positives = 0\n",
    "        false_positives = 0\n",
    "        false_negatives = 0\n",
    "        for class_label in range(num_classes):\n",
    "             true_positives += np.sum((y_true == class_label) & (y_pred == class_label))\n",
    "             false_positives += np.sum((y_true != class_label) & (y_pred == class_label))\n",
    "             false_negatives += np.sum((y_true == class_label) & (y_pred != class_label))\n",
    "        precision = true_positives/(true_positives+false_positives)\n",
    "        recall = true_positives/(true_positives+false_negatives)\n",
    "        return 2*precision*recall/(precision+recall)"
   ]
  },
  {
   "cell_type": "code",
   "execution_count": 37,
   "metadata": {},
   "outputs": [
    {
     "name": "stdout",
     "output_type": "stream",
     "text": [
      "Cost is 1.4810095165829726\n",
      "The F1 score of binary model is 0.667416291854073\n"
     ]
    }
   ],
   "source": [
    "layer_dimsb=[data_train.shape[0],5,10,1]\n",
    "iters=15\n",
    "ParametersB,Cost_list=model(data_train,yb_train,layer_dimsb,lr=0.01,iters=iters)\n",
    "def Pred(X,y,parameters):\n",
    "    preds,_=forward_prop(X,y,parameters)\n",
    "    preds=np.array(preds>0.5,dtype='float')\n",
    "    return preds\n",
    "preds=Pred(data_test,yb_test,ParametersB)\n",
    "print(\"The F1 score of binary model is\",Calculate_f1(yb_test,preds))\n"
   ]
  },
  {
   "cell_type": "code",
   "execution_count": 244,
   "metadata": {},
   "outputs": [
    {
     "name": "stdout",
     "output_type": "stream",
     "text": [
      "[ 1  2  3  4  5  6  7  8  9 10]\n"
     ]
    }
   ],
   "source": [
    "print(np.unique(ym_train))"
   ]
  },
  {
   "cell_type": "code",
   "execution_count": 36,
   "metadata": {},
   "outputs": [
    {
     "name": "stdout",
     "output_type": "stream",
     "text": [
      "Cost is 608.269131774897\n",
      "The F1 score of multilabel model is 0.10461133069828722\n",
      "LEARNING CURVE\n"
     ]
    },
    {
     "data": {
      "image/png": "[encoded data removed]",
      "text/plain": [
       "<Figure size 640x480 with 1 Axes>"
      ]
     },
     "metadata": {},
     "output_type": "display_data"
    }
   ],
   "source": [
    "layer_dimsm=[data_train.shape[0],5,10]\n",
    "iters=25\n",
    "ParametersM,Cost_list=model(data_train,ym_train,layer_dimsm,lr=0.1,iters=iters)\n",
    "def Pred(X,y,parameters):\n",
    "    preds,_=forward_prop(X,y,parameters)\n",
    "    m=y.size\n",
    "    if(y.max()==1):\n",
    "     preds=np.array(preds>0.5,dtype='float')\n",
    "    else:\n",
    "        preds=np.argmax(preds,axis=0)+1\n",
    "    return preds\n",
    "preds=Pred(data_test,ym_test,ParametersM)\n",
    "print(\"The F1 score of multilabel model is\",Calculate_f1_multiclass(ym_test,preds))\n",
    "print(\"LEARNING CURVE\")\n",
    "t=np.arange(0,iters)\n",
    "plt.plot(t,Cost_list)\n",
    "plt.show()"
   ]
  }
 ],
 "metadata": {
  "kernelspec": {
   "display_name": "Python 3",
   "language": "python",
   "name": "python3"
  },
  "language_info": {
   "codemirror_mode": {
    "name": "ipython",
    "version": 3
   },
   "file_extension": ".py",
   "mimetype": "text/x-python",
   "name": "python",
   "nbconvert_exporter": "python",
   "pygments_lexer": "ipython3",
   "version": "3.13.0"
  }
 },
 "nbformat": 4,
 "nbformat_minor": 2
}
