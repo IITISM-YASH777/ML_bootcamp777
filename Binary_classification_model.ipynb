{
 "cells": [
  {
   "cell_type": "code",
   "execution_count": 2,
   "metadata": {},
   "outputs": [],
   "source": [
    "import pandas as pd\n",
    "import matplotlib.pyplot as plt\n",
    "import numpy as np"
   ]
  },
  {
   "cell_type": "code",
   "execution_count": 3,
   "metadata": {},
   "outputs": [],
   "source": [
    "data=pd.read_csv(r\"C:\\Users\\yash-\\Downloads\\binary_classification_train.csv\")"
   ]
  },
  {
   "cell_type": "code",
   "execution_count": 4,
   "metadata": {},
   "outputs": [
    {
     "data": {
      "text/plain": [
       "(48000, 22)"
      ]
     },
     "execution_count": 4,
     "metadata": {},
     "output_type": "execute_result"
    }
   ],
   "source": [
    "d_np=data.to_numpy()\n",
    "d_np.shape"
   ]
  },
  {
   "cell_type": "code",
   "execution_count": 5,
   "metadata": {},
   "outputs": [],
   "source": [
    "X=d_np[:,1:21]\n",
    "y=d_np[:,21]\n",
    "X_mean=np.mean(X)\n",
    "X_std=np.std(X)\n",
    "X_normalize=(X-X_mean)/X_std"
   ]
  },
  {
   "cell_type": "code",
   "execution_count": 6,
   "metadata": {},
   "outputs": [],
   "source": [
    "X_train=X_normalize[0:38400,:]\n",
    "X_test=X_normalize[38401:,:]\n",
    "y_train=y[0:38400]\n",
    "y_test=y[38401:]"
   ]
  },
  {
   "cell_type": "code",
   "execution_count": 8,
   "metadata": {},
   "outputs": [
    {
     "name": "stdout",
     "output_type": "stream",
     "text": [
      "PREDICTIONS [0.0046364  0.23691339 0.02783118 ... 0.03194736 0.07530957 0.75376865]\n",
      "Accuracy of model is 0.9364517137201792\n",
      "The F1 score is 0.8947913073473613\n",
      "LEARNING CURVE\n"
     ]
    },
    {
     "data": {
      "image/png": "[encoded data removed]",
      "text/plain": [
       "<Figure size 640x480 with 1 Axes>"
      ]
     },
     "metadata": {},
     "output_type": "display_data"
    }
   ],
   "source": [
    "def sigmoid(X):\n",
    "  return 1/(1+np.exp(-X))\n",
    "def calculate_gradients(X,y,y_pred):\n",
    "    n_samples,n_features = X.shape\n",
    "    dw = (1/n_samples)*np.dot(X.T,(y_pred-y))\n",
    "    db = (1/n_samples)*np.sum(y_pred-y)\n",
    "    return dw,db\n",
    "def cost_function(X,y,w,b):\n",
    "    m=X.shape[0]\n",
    "    cost=0.0\n",
    "    for i in range(m):\n",
    "     f_wb=np.dot(w,X[i])+b\n",
    "     cost+=(f_wb-y[i])**2\n",
    "    total_cost=(1/(2*m))*cost\n",
    "    return total_cost\n",
    "def train(X,y,epochs,lr,lambd):\n",
    "    \n",
    "    m,n=X.shape\n",
    "    w=np.zeros(n)\n",
    "    b=0\n",
    "    cost_list=[]\n",
    "    for epoch in range(epochs):\n",
    "            linear_pred=np.dot(X,w)+b\n",
    "            y_pred=sigmoid(linear_pred)\n",
    "            dw,db=calculate_gradients(X,y,y_pred)\n",
    "            \n",
    "            w=w*(1-(lr*lambd)/m)-lr*dw\n",
    "            b-=lr*db\n",
    "            \n",
    "            cost=cost_function(X,y,w,b)\n",
    "            cost_list.append(cost)\n",
    "    return w,b,cost_list\n",
    "def predict(X,w,b):\n",
    "     linear_pred=np.dot(X,w) +b\n",
    "     predictions=sigmoid(linear_pred)\n",
    "     print('PREDICTIONS',predictions)\n",
    "   \n",
    "     n_samples=linear_pred.size\n",
    "     class_pred=np.zeros(n_samples)\n",
    "     i=0\n",
    "     while i<n_samples:\n",
    "        if predictions[i]<0.5:\n",
    "         class_pred[i]=0\n",
    "        else:\n",
    "         class_pred[i]=1\n",
    "        i+=1\n",
    "     return class_pred\n",
    " \n",
    "def calculate_precision(y_true, y_pred):\n",
    "    true_positives = np.sum((y_true == 1) & (y_pred == 1))\n",
    "    predicted_positives = np.sum(y_pred == 1)\n",
    "    if predicted_positives == 0:\n",
    "        return 0  \n",
    "    return true_positives / predicted_positives\n",
    "\n",
    "def calculate_recall(y_true, y_pred):\n",
    "    true_positives = np.sum((y_true == 1) & (y_pred == 1))\n",
    "    actual_positives = np.sum(y_true == 1)\n",
    "    if actual_positives == 0:\n",
    "        return 0  \n",
    "    return true_positives / actual_positives\n",
    "\n",
    "def Calculate_f1(y_true, y_pred):\n",
    "    precision = calculate_precision(y_true, y_pred)\n",
    "    recall = calculate_recall(y_true, y_pred)\n",
    "    if (precision + recall) == 0:\n",
    "        return 0\n",
    "    return 2 * (precision * recall) / (precision + recall)\n",
    "\n",
    "iters=2000\n",
    "w_trained,b_trained ,Cost_list=train(X_train,y_train,epochs=iters,lr=.0685,lambd=0.05)\n",
    "y_hat=predict(X_test,w_trained,b_trained)\n",
    "def accuracy(y_hat,y):\n",
    "    return np.sum(y_hat==y)/len(y)\n",
    "acc=accuracy(y_hat,y_test)\n",
    "print('Accuracy of model is',acc)\n",
    "print('The F1 score is',Calculate_f1(y_test,y_hat))\n",
    "\n",
    "print(\"LEARNING CURVE\")\n",
    "t=np.arange(0,iters)\n",
    "plt.plot(t,Cost_list)\n",
    "plt.show()"
   ]
  }
 ],
 "metadata": {
  "kernelspec": {
   "display_name": "Python 3",
   "language": "python",
   "name": "python3"
  },
  "language_info": {
   "codemirror_mode": {
    "name": "ipython",
    "version": 3
   },
   "file_extension": ".py",
   "mimetype": "text/x-python",
   "name": "python",
   "nbconvert_exporter": "python",
   "pygments_lexer": "ipython3",
   "version": "3.13.0"
  }
 },
 "nbformat": 4,
 "nbformat_minor": 2
}
